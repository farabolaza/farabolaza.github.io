{
 "cells": [
  {
   "cell_type": "markdown",
   "id": "7629df03",
   "metadata": {},
   "source": [
    "Escriba su publicación aquí."
   ]
  }
 ],
 "metadata": {
  "kernelspec": {
   "display_name": "Python 3 (ipykernel)",
   "env": {},
   "interrupt_mode": "signal",
   "language": "python",
   "metadata": {
    "debugger": true
   },
   "name": "python3"
  },
  "nikola": {
   "category": "",
   "date": "2022-12-13 21:17:51 UTC-03:00",
   "description": "",
   "link": "",
   "slug": "testnotebook",
   "tags": "",
   "title": "testnotebook",
   "type": "text"
  }
 },
 "nbformat": 4,
 "nbformat_minor": 5
}
